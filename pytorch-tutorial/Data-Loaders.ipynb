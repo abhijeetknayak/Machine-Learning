{
 "cells": [
  {
   "cell_type": "code",
   "execution_count": 6,
   "id": "aa86e134",
   "metadata": {},
   "outputs": [],
   "source": [
    "import numpy as np\n",
    "data = np.loadtxt('wine.csv', skiprows=1, delimiter=',')"
   ]
  },
  {
   "cell_type": "code",
   "execution_count": 10,
   "id": "8233d9ee",
   "metadata": {},
   "outputs": [],
   "source": [
    "import torch\n",
    "import torchvision\n",
    "from torch.utils.data import Dataset, DataLoader\n",
    "import math"
   ]
  },
  {
   "cell_type": "code",
   "execution_count": 12,
   "id": "e14b59d5",
   "metadata": {},
   "outputs": [
    {
     "name": "stdout",
     "output_type": "stream",
     "text": [
      "tensor([1.4230e+01, 1.7100e+00, 2.4300e+00, 1.5600e+01, 1.2700e+02, 2.8000e+00,\n",
      "        3.0600e+00, 2.8000e-01, 2.2900e+00, 5.6400e+00, 1.0400e+00, 3.9200e+00,\n",
      "        1.0650e+03]) tensor([1.])\n"
     ]
    }
   ],
   "source": [
    "class Winedataset(Dataset):\n",
    "    def __init__(self):\n",
    "        # Data Loading\n",
    "        data = np.loadtxt('wine.csv', skiprows=1, delimiter=',', dtype=np.float32)\n",
    "        self.X = torch.from_numpy(data[:, 1:])\n",
    "        self.y = torch.from_numpy(data[:, [0]])\n",
    "        self.n_samples = data.shape[0]\n",
    "        \n",
    "    def __getitem__(self, index):\n",
    "        return self.X[index], self.y[index]\n",
    "        \n",
    "    def __len__(self):\n",
    "        return self.n_samples\n",
    "    \n",
    "dataset = Winedataset()  # __init__\n",
    "features, labels = dataset[0]  # __getitem__\n",
    "print(features, labels)\n",
    "\n",
    "dataloader = DataLoader(dataset=dataset, batch_size=5, shuffle=True, num_workers=2)\n",
    "dataiter = iter(dataloader)"
   ]
  },
  {
   "cell_type": "code",
   "execution_count": 17,
   "id": "a222e247",
   "metadata": {},
   "outputs": [
    {
     "name": "stdout",
     "output_type": "stream",
     "text": [
      "Epoch: 1, Step: 4, Input Shape: torch.Size([5, 13])\n",
      "Epoch: 1, Step: 8, Input Shape: torch.Size([5, 13])\n",
      "Epoch: 1, Step: 12, Input Shape: torch.Size([5, 13])\n",
      "Epoch: 1, Step: 16, Input Shape: torch.Size([5, 13])\n",
      "Epoch: 1, Step: 20, Input Shape: torch.Size([5, 13])\n",
      "Epoch: 1, Step: 24, Input Shape: torch.Size([5, 13])\n",
      "Epoch: 1, Step: 28, Input Shape: torch.Size([5, 13])\n",
      "Epoch: 1, Step: 32, Input Shape: torch.Size([5, 13])\n",
      "Epoch: 1, Step: 36, Input Shape: torch.Size([3, 13])\n",
      "Epoch: 2, Step: 4, Input Shape: torch.Size([5, 13])\n",
      "Epoch: 2, Step: 8, Input Shape: torch.Size([5, 13])\n",
      "Epoch: 2, Step: 12, Input Shape: torch.Size([5, 13])\n",
      "Epoch: 2, Step: 16, Input Shape: torch.Size([5, 13])\n",
      "Epoch: 2, Step: 20, Input Shape: torch.Size([5, 13])\n",
      "Epoch: 2, Step: 24, Input Shape: torch.Size([5, 13])\n",
      "Epoch: 2, Step: 28, Input Shape: torch.Size([5, 13])\n",
      "Epoch: 2, Step: 32, Input Shape: torch.Size([5, 13])\n",
      "Epoch: 2, Step: 36, Input Shape: torch.Size([3, 13])\n"
     ]
    }
   ],
   "source": [
    "num_epochs = 2\n",
    "total_samples = dataset.__len__()\n",
    "batch_size = 4\n",
    "\n",
    "n_iters = math.ceil(total_samples / batch_size)\n",
    "for epoch in range(num_epochs):\n",
    "    for i, (inputs, labels) in enumerate(dataloader):\n",
    "        # Forward Pass, Updates\n",
    "        \n",
    "        if (i + 1) % batch_size == 0:\n",
    "            print(\"Epoch: {}, Step: {}, Input Shape: {}\".format(epoch + 1, i + 1, inputs.shape))\n",
    "    "
   ]
  },
  {
   "cell_type": "code",
   "execution_count": null,
   "id": "f475f552",
   "metadata": {},
   "outputs": [],
   "source": [
    ":\n",
    "    "
   ]
  }
 ],
 "metadata": {
  "kernelspec": {
   "display_name": "Python 3",
   "language": "python",
   "name": "python3"
  },
  "language_info": {
   "codemirror_mode": {
    "name": "ipython",
    "version": 3
   },
   "file_extension": ".py",
   "mimetype": "text/x-python",
   "name": "python",
   "nbconvert_exporter": "python",
   "pygments_lexer": "ipython3",
   "version": "3.6.9"
  }
 },
 "nbformat": 4,
 "nbformat_minor": 5
}
