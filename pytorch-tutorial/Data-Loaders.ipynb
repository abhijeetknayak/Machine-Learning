{
 "cells": [
  {
   "cell_type": "code",
   "execution_count": 4,
   "id": "aa86e134",
   "metadata": {},
   "outputs": [],
   "source": [
    "import numpy as np\n",
    "data = np.loadtxt('wine.csv', skiprows=1, delimiter=',')"
   ]
  },
  {
   "cell_type": "code",
   "execution_count": 5,
   "id": "8233d9ee",
   "metadata": {},
   "outputs": [],
   "source": [
    "import torch\n",
    "import torchvision\n",
    "from torch.utils.data import Dataset, DataLoader\n",
    "import math"
   ]
  },
  {
   "cell_type": "code",
   "execution_count": 6,
   "id": "e14b59d5",
   "metadata": {},
   "outputs": [
    {
     "name": "stdout",
     "output_type": "stream",
     "text": [
      "tensor([1.4230e+01, 1.7100e+00, 2.4300e+00, 1.5600e+01, 1.2700e+02, 2.8000e+00,\n",
      "        3.0600e+00, 2.8000e-01, 2.2900e+00, 5.6400e+00, 1.0400e+00, 3.9200e+00,\n",
      "        1.0650e+03]) tensor([1.])\n"
     ]
    }
   ],
   "source": [
    "class Winedataset(Dataset):\n",
    "    def __init__(self):\n",
    "        # Data Loading\n",
    "        data = np.loadtxt('wine.csv', skiprows=1, delimiter=',', dtype=np.float32)\n",
    "        self.X = torch.from_numpy(data[:, 1:])\n",
    "        self.y = torch.from_numpy(data[:, [0]])\n",
    "        self.n_samples = data.shape[0]\n",
    "        \n",
    "    def __getitem__(self, index):\n",
    "        return self.X[index], self.y[index]\n",
    "        \n",
    "    def __len__(self):\n",
    "        return self.n_samples\n",
    "    \n",
    "dataset = Winedataset()  # __init__\n",
    "features, labels = dataset[0]  # __getitem__\n",
    "print(features, labels)\n",
    "\n",
    "dataloader = DataLoader(dataset=dataset, batch_size=5, shuffle=True, num_workers=2)\n",
    "dataiter = iter(dataloader)"
   ]
  },
  {
   "cell_type": "code",
   "execution_count": 7,
   "id": "a222e247",
   "metadata": {},
   "outputs": [
    {
     "name": "stdout",
     "output_type": "stream",
     "text": [
      "Epoch: 1, Step: 4, Input Shape: torch.Size([5, 13])\n",
      "Epoch: 1, Step: 8, Input Shape: torch.Size([5, 13])\n",
      "Epoch: 1, Step: 12, Input Shape: torch.Size([5, 13])\n",
      "Epoch: 1, Step: 16, Input Shape: torch.Size([5, 13])\n",
      "Epoch: 1, Step: 20, Input Shape: torch.Size([5, 13])\n",
      "Epoch: 1, Step: 24, Input Shape: torch.Size([5, 13])\n",
      "Epoch: 1, Step: 28, Input Shape: torch.Size([5, 13])\n",
      "Epoch: 1, Step: 32, Input Shape: torch.Size([5, 13])\n",
      "Epoch: 1, Step: 36, Input Shape: torch.Size([3, 13])\n",
      "Epoch: 2, Step: 4, Input Shape: torch.Size([5, 13])\n",
      "Epoch: 2, Step: 8, Input Shape: torch.Size([5, 13])\n",
      "Epoch: 2, Step: 12, Input Shape: torch.Size([5, 13])\n",
      "Epoch: 2, Step: 16, Input Shape: torch.Size([5, 13])\n",
      "Epoch: 2, Step: 20, Input Shape: torch.Size([5, 13])\n",
      "Epoch: 2, Step: 24, Input Shape: torch.Size([5, 13])\n",
      "Epoch: 2, Step: 28, Input Shape: torch.Size([5, 13])\n",
      "Epoch: 2, Step: 32, Input Shape: torch.Size([5, 13])\n",
      "Epoch: 2, Step: 36, Input Shape: torch.Size([3, 13])\n"
     ]
    }
   ],
   "source": [
    "num_epochs = 2\n",
    "total_samples = dataset.__len__()\n",
    "batch_size = 4\n",
    "\n",
    "n_iters = math.ceil(total_samples / batch_size)\n",
    "for epoch in range(num_epochs):\n",
    "    for i, (inputs, labels) in enumerate(dataloader):\n",
    "        # Forward Pass, Updates\n",
    "        \n",
    "        if (i + 1) % batch_size == 0:\n",
    "            print(\"Epoch: {}, Step: {}, Input Shape: {}\".format(epoch + 1, i + 1, inputs.shape))\n",
    "    "
   ]
  },
  {
   "cell_type": "markdown",
   "id": "15db77db",
   "metadata": {},
   "source": [
    "### Built In Datasets"
   ]
  },
  {
   "cell_type": "code",
   "execution_count": 10,
   "id": "4836294e",
   "metadata": {},
   "outputs": [
    {
     "name": "stderr",
     "output_type": "stream",
     "text": [
      "1.8%"
     ]
    },
    {
     "name": "stdout",
     "output_type": "stream",
     "text": [
      "Downloading http://yann.lecun.com/exdb/mnist/train-images-idx3-ubyte.gz\n",
      "Downloading http://yann.lecun.com/exdb/mnist/train-images-idx3-ubyte.gz to ./MNIST/raw/train-images-idx3-ubyte.gz\n"
     ]
    },
    {
     "name": "stderr",
     "output_type": "stream",
     "text": [
      "31.0%IOPub message rate exceeded.\n",
      "The notebook server will temporarily stop sending output\n",
      "to the client in order to avoid crashing it.\n",
      "To change this limit, set the config variable\n",
      "`--NotebookApp.iopub_msg_rate_limit`.\n",
      "\n",
      "Current values:\n",
      "NotebookApp.iopub_msg_rate_limit=1000.0 (msgs/sec)\n",
      "NotebookApp.rate_limit_window=3.0 (secs)\n",
      "\n",
      "83.0%IOPub message rate exceeded.\n",
      "The notebook server will temporarily stop sending output\n",
      "to the client in order to avoid crashing it.\n",
      "To change this limit, set the config variable\n",
      "`--NotebookApp.iopub_msg_rate_limit`.\n",
      "\n",
      "Current values:\n",
      "NotebookApp.iopub_msg_rate_limit=1000.0 (msgs/sec)\n",
      "NotebookApp.rate_limit_window=3.0 (secs)\n",
      "\n"
     ]
    }
   ],
   "source": [
    "mnist = torchvision.datasets.MNIST(root='./', transform=torchvision.transforms.ToTensor(), download=True)"
   ]
  },
  {
   "cell_type": "code",
   "execution_count": 11,
   "id": "12ccbbaf",
   "metadata": {},
   "outputs": [
    {
     "data": {
      "text/plain": [
       "Dataset MNIST\n",
       "    Number of datapoints: 60000\n",
       "    Root location: ./\n",
       "    Split: Train\n",
       "    StandardTransform\n",
       "Transform: ToTensor()"
      ]
     },
     "execution_count": 11,
     "metadata": {},
     "output_type": "execute_result"
    }
   ],
   "source": [
    "mnist"
   ]
  },
  {
   "cell_type": "markdown",
   "id": "80ceb256",
   "metadata": {},
   "source": [
    "### Updating Winedataset class to handle transforms"
   ]
  },
  {
   "cell_type": "code",
   "execution_count": 12,
   "id": "6f2aab4c",
   "metadata": {},
   "outputs": [
    {
     "name": "stdout",
     "output_type": "stream",
     "text": [
      "<class 'torch.Tensor'> <class 'torch.Tensor'>\n"
     ]
    }
   ],
   "source": [
    "class Winedataset(Dataset):\n",
    "    def __init__(self, transform=None):\n",
    "        # Data Loading, Transform is Optional\n",
    "        data = np.loadtxt('wine.csv', skiprows=1, delimiter=',', dtype=np.float32)\n",
    "        self.X = data[:, 1:]\n",
    "        self.y = data[:, [0]]\n",
    "        self.n_samples = data.shape[0]\n",
    "        \n",
    "        self.transform = transform\n",
    "        \n",
    "    def __getitem__(self, index):\n",
    "        sample = self.X[index], self.y[index]\n",
    "        if self.transform:\n",
    "            sample = self.transform(sample)\n",
    "            \n",
    "        return sample\n",
    "    \n",
    "    def __len__(self):\n",
    "        return self.n_samples\n",
    "\n",
    "# Custom transform class applied to the dataset\n",
    "class ToTensor():\n",
    "    def __call__(self, sample):\n",
    "        inputs, labels = sample\n",
    "        return torch.from_numpy(inputs), torch.from_numpy(labels)\n",
    "    \n",
    "class MulTransform():\n",
    "    def __init__(self, factor):\n",
    "        self.factor = factor\n",
    "        \n",
    "    def __call__(self, sample):\n",
    "        inputs, target = sample\n",
    "        \n",
    "        # Multiply only the inputs, leave out the targets\n",
    "        inputs *= self.factor\n",
    "        \n",
    "        return inputs, target\n",
    "    \n",
    "    \n",
    "dataset = Winedataset(transform=ToTensor())\n",
    "first_data = dataset[0]\n",
    "\n",
    "features, target = first_data\n",
    "print(type(features), type(target))\n",
    "\n",
    "trans = torchvision.transforms.Compose([ToTensor(),\n",
    "                                       MulTransform(3)])\n",
    "new_dataset = Winedataset(transform=trans)\n",
    "first_data = dataset[0] \n",
    "\n",
    "'''\n",
    "Transformed - Converted into a Torch Tensor\n",
    "and then Multiplied by the factor\n",
    "\n",
    "'''\n",
    "\n",
    "\n",
    "        "
   ]
  },
  {
   "cell_type": "code",
   "execution_count": null,
   "id": "17592066",
   "metadata": {},
   "outputs": [],
   "source": []
  }
 ],
 "metadata": {
  "kernelspec": {
   "display_name": "Python 3",
   "language": "python",
   "name": "python3"
  },
  "language_info": {
   "codemirror_mode": {
    "name": "ipython",
    "version": 3
   },
   "file_extension": ".py",
   "mimetype": "text/x-python",
   "name": "python",
   "nbconvert_exporter": "python",
   "pygments_lexer": "ipython3",
   "version": "3.6.9"
  }
 },
 "nbformat": 4,
 "nbformat_minor": 5
}
