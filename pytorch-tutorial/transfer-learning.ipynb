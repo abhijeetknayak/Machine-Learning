{
 "cells": [
  {
   "cell_type": "code",
   "execution_count": 5,
   "id": "b1864f6a",
   "metadata": {},
   "outputs": [],
   "source": [
    "import torch\n",
    "import torchvision\n",
    "from torch.utils.data import DataLoader\n",
    "import matplotlib.pyplot as plt\n",
    "import numpy as np\n",
    "import torch.nn as nn\n",
    "from torchvision import transforms, datasets\n",
    "import os"
   ]
  },
  {
   "cell_type": "code",
   "execution_count": 3,
   "id": "9ef8804e",
   "metadata": {},
   "outputs": [],
   "source": [
    "device = torch.device('cuda' if torch.cuda.is_available() else 'cpu')"
   ]
  },
  {
   "cell_type": "code",
   "execution_count": null,
   "id": "56e168a7",
   "metadata": {},
   "outputs": [],
   "source": [
    "data_transforms = {'train': \n",
    "                  transforms.Compose([]),\n",
    "                  'val': transforms.Compose([])}"
   ]
  },
  {
   "cell_type": "code",
   "execution_count": null,
   "id": "da46dc35",
   "metadata": {},
   "outputs": [],
   "source": [
    "data_dir = './data/hymenoptera_data'\n",
    "sets = ['train', 'val']\n",
    "image_datasets = {x:datasets.ImageFolder(os.path.join(data_dir, x), \n",
    "                                        transform=data_transforms[x]) \n",
    "                 for x in sets }\n"
   ]
  },
  {
   "cell_type": "code",
   "execution_count": null,
   "id": "b1d8270c",
   "metadata": {},
   "outputs": [],
   "source": []
  }
 ],
 "metadata": {
  "kernelspec": {
   "display_name": "Python 3",
   "language": "python",
   "name": "python3"
  },
  "language_info": {
   "codemirror_mode": {
    "name": "ipython",
    "version": 3
   },
   "file_extension": ".py",
   "mimetype": "text/x-python",
   "name": "python",
   "nbconvert_exporter": "python",
   "pygments_lexer": "ipython3",
   "version": "3.6.9"
  }
 },
 "nbformat": 4,
 "nbformat_minor": 5
}
