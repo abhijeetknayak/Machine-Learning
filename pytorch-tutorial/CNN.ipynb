{
 "cells": [
  {
   "cell_type": "markdown",
   "id": "622e71c5",
   "metadata": {},
   "source": [
    "## CIFAR 10 Dataset"
   ]
  },
  {
   "cell_type": "code",
   "execution_count": 1,
   "id": "e7bde58d",
   "metadata": {},
   "outputs": [],
   "source": [
    "import torch\n",
    "import torch.nn as nn\n",
    "import torchvision\n",
    "import torchvision.transforms as transforms\n",
    "import matplotlib.pyplot as plt\n",
    "import numpy as np\n",
    "from torch.utils.data import DataLoader"
   ]
  },
  {
   "cell_type": "code",
   "execution_count": 2,
   "id": "c9a88756",
   "metadata": {},
   "outputs": [],
   "source": [
    "device = torch.device('cuda' if torch.cuda.is_available() else 'cpu')"
   ]
  },
  {
   "cell_type": "code",
   "execution_count": 3,
   "id": "488a60a7",
   "metadata": {},
   "outputs": [
    {
     "data": {
      "text/plain": [
       "True"
      ]
     },
     "execution_count": 3,
     "metadata": {},
     "output_type": "execute_result"
    }
   ],
   "source": [
    "torch.cuda.is_available()"
   ]
  },
  {
   "cell_type": "code",
   "execution_count": 4,
   "id": "1f9232c0",
   "metadata": {},
   "outputs": [],
   "source": [
    "# Parameters\n",
    "num_epochs = 5\n",
    "batch_size = 4\n",
    "learning_rate = 0.001"
   ]
  },
  {
   "cell_type": "code",
   "execution_count": 5,
   "id": "9bb3ac2b",
   "metadata": {},
   "outputs": [
    {
     "name": "stdout",
     "output_type": "stream",
     "text": [
      "Files already downloaded and verified\n",
      "Files already downloaded and verified\n"
     ]
    }
   ],
   "source": [
    "transform = transforms.Compose([transforms.ToTensor(),\n",
    "                               transforms.Normalize((0.5, 0.5, 0.5),\n",
    "                                                   (0.5, 0.5, 0.5))])\n",
    "\n",
    "train_dataset = torchvision.datasets.CIFAR10(root='./', download=True, train=True, transform=transform)\n",
    "test_dataset = torchvision.datasets.CIFAR10(root='./', download=True, train=False, transform=transform)\n",
    "\n",
    "train_loader = DataLoader(train_dataset, batch_size=batch_size, shuffle=True)\n",
    "test_loader = DataLoader(test_dataset, batch_size=batch_size, shuffle=False)\n",
    "\n"
   ]
  },
  {
   "cell_type": "code",
   "execution_count": 6,
   "id": "3240ab7b",
   "metadata": {},
   "outputs": [],
   "source": [
    "classes = {'plane', 'car', 'bird', 'cat', 'deer',\n",
    "          'dog', 'frog', 'horse', 'ship', 'truck'}"
   ]
  },
  {
   "cell_type": "code",
   "execution_count": 7,
   "id": "69c4f49e",
   "metadata": {},
   "outputs": [
    {
     "name": "stdout",
     "output_type": "stream",
     "text": [
      "Epoch: 1/5, Step: 2000/12500, Loss: 2.302532196044922\n",
      "Epoch: 1/5, Step: 4000/12500, Loss: 2.2630722522735596\n",
      "Epoch: 1/5, Step: 6000/12500, Loss: 2.077075958251953\n",
      "Epoch: 1/5, Step: 8000/12500, Loss: 2.140511989593506\n",
      "Epoch: 1/5, Step: 10000/12500, Loss: 1.6865479946136475\n",
      "Epoch: 1/5, Step: 12000/12500, Loss: 2.013993501663208\n",
      "Epoch: 2/5, Step: 2000/12500, Loss: 1.6799960136413574\n",
      "Epoch: 2/5, Step: 4000/12500, Loss: 1.576537847518921\n",
      "Epoch: 2/5, Step: 6000/12500, Loss: 2.044679641723633\n",
      "Epoch: 2/5, Step: 8000/12500, Loss: 2.0757956504821777\n",
      "Epoch: 2/5, Step: 10000/12500, Loss: 1.3058042526245117\n",
      "Epoch: 2/5, Step: 12000/12500, Loss: 1.3837724924087524\n",
      "Epoch: 3/5, Step: 2000/12500, Loss: 1.1932172775268555\n",
      "Epoch: 3/5, Step: 4000/12500, Loss: 1.535935640335083\n",
      "Epoch: 3/5, Step: 6000/12500, Loss: 0.9015352725982666\n",
      "Epoch: 3/5, Step: 8000/12500, Loss: 2.1275696754455566\n",
      "Epoch: 3/5, Step: 10000/12500, Loss: 1.1868253946304321\n",
      "Epoch: 3/5, Step: 12000/12500, Loss: 1.079467535018921\n",
      "Epoch: 4/5, Step: 2000/12500, Loss: 1.4767178297042847\n",
      "Epoch: 4/5, Step: 4000/12500, Loss: 1.404983639717102\n",
      "Epoch: 4/5, Step: 6000/12500, Loss: 1.1370288133621216\n",
      "Epoch: 4/5, Step: 8000/12500, Loss: 1.1711962223052979\n",
      "Epoch: 4/5, Step: 10000/12500, Loss: 1.0726993083953857\n",
      "Epoch: 4/5, Step: 12000/12500, Loss: 2.2117786407470703\n",
      "Epoch: 5/5, Step: 2000/12500, Loss: 1.212093710899353\n",
      "Epoch: 5/5, Step: 4000/12500, Loss: 2.8056113719940186\n",
      "Epoch: 5/5, Step: 6000/12500, Loss: 2.026373863220215\n",
      "Epoch: 5/5, Step: 8000/12500, Loss: 0.8296432495117188\n",
      "Epoch: 5/5, Step: 10000/12500, Loss: 1.5720713138580322\n",
      "Epoch: 5/5, Step: 12000/12500, Loss: 1.1294771432876587\n",
      "Accuracy: 52.27\n"
     ]
    }
   ],
   "source": [
    "class ConvNet(nn.Module):\n",
    "    def __init__(self):\n",
    "        super(ConvNet, self).__init__()\n",
    "        \n",
    "        self.conv1 = nn.Conv2d(in_channels=3, out_channels=6, kernel_size=5)\n",
    "        self.pool = nn.MaxPool2d(2, 2)\n",
    "        self.relu = nn.ReLU()\n",
    "        \n",
    "        self.conv2 = nn.Conv2d(in_channels=6, out_channels=16, kernel_size=5)\n",
    "        self.fc1 = nn.Linear(5 * 5 * 16, 120)\n",
    "        self.fc2 = nn.Linear(120, 84)\n",
    "        self.fc3 = nn.Linear(84, 10)        \n",
    "        \n",
    "    def forward(self, X):\n",
    "        out = self.conv1(X)\n",
    "        out = self.pool(out)\n",
    "        out = self.relu(out)\n",
    "        \n",
    "        out = self.conv2(out)\n",
    "        out = self.pool(out)\n",
    "        out = self.relu(out)\n",
    "        \n",
    "        out = out.reshape(-1, 16 * 5 * 5)\n",
    "        \n",
    "        out = self.fc1(out)\n",
    "        out = self.fc2(out)\n",
    "        out = self.fc3(out)      \n",
    "        \n",
    "        return out\n",
    "\n",
    "model = ConvNet().to(device)\n",
    "\n",
    "criterion = nn.CrossEntropyLoss()\n",
    "optimizer = torch.optim.SGD(model.parameters(), lr=learning_rate)\n",
    "\n",
    "n_iters = len(train_loader)\n",
    "\n",
    "for epoch in range(num_epochs):\n",
    "    for i, (images, labels) in enumerate(train_loader):\n",
    "        images = images.to(device)\n",
    "        labels = labels.to(device)\n",
    "        \n",
    "        y_pred = model(images)\n",
    "        \n",
    "        loss = criterion(y_pred, labels)\n",
    "        loss.backward()\n",
    "        \n",
    "        optimizer.step()\n",
    "        optimizer.zero_grad()\n",
    "        \n",
    "        if (i + 1) % 2000 == 0:\n",
    "            print(f\"Epoch: {epoch + 1}/{num_epochs}, Step: {i + 1}/{n_iters}, Loss: {loss.item()}\")\n",
    "\n",
    "with torch.no_grad():\n",
    "    num_samples = 0\n",
    "    num_correct = 0\n",
    "    \n",
    "    for images, labels in test_loader:\n",
    "        images = images.to(device)\n",
    "        labels = labels.to(device)\n",
    "        \n",
    "        output = model(images)\n",
    "        \n",
    "        _, predictions = torch.max(output, dim=1)\n",
    "        \n",
    "        num_correct += (predictions == labels).sum().item()\n",
    "        num_samples += labels.shape[0]\n",
    "        \n",
    "    accuracy = (num_correct / num_samples) * 100.0\n",
    "    print(f\"Accuracy: {accuracy}\")"
   ]
  }
 ],
 "metadata": {
  "kernelspec": {
   "display_name": "Python 3",
   "language": "python",
   "name": "python3"
  },
  "language_info": {
   "codemirror_mode": {
    "name": "ipython",
    "version": 3
   },
   "file_extension": ".py",
   "mimetype": "text/x-python",
   "name": "python",
   "nbconvert_exporter": "python",
   "pygments_lexer": "ipython3",
   "version": "3.6.9"
  }
 },
 "nbformat": 4,
 "nbformat_minor": 5
}
