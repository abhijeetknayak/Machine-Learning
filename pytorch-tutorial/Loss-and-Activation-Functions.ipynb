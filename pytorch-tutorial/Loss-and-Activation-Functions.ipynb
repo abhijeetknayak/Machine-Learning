{
 "cells": [
  {
   "cell_type": "code",
   "execution_count": 2,
   "id": "4e686d8b",
   "metadata": {},
   "outputs": [],
   "source": [
    "import torch\n",
    "import torch.nn as nn\n",
    "import numpy as np"
   ]
  },
  {
   "cell_type": "code",
   "execution_count": 9,
   "id": "cbcca815",
   "metadata": {},
   "outputs": [
    {
     "name": "stdout",
     "output_type": "stream",
     "text": [
      "tensor(0.4170) 1.9868707656860352\n",
      "tensor([2.]) tensor([0]) tensor([2.2000]) tensor([1])\n"
     ]
    }
   ],
   "source": [
    "# Cross Entropy Loss in Pytorch includes the LogSoftmax and the Negative Log likelihood\n",
    "loss = nn.CrossEntropyLoss()\n",
    "\n",
    "Y = torch.tensor([0])\n",
    "num_samples = 1\n",
    "num_classes = 3\n",
    "\n",
    "Y_pred_good = torch.tensor([[2.0, 1.0, 0.1]])\n",
    "Y_pred_bad = torch.tensor([[0.5, 2.2, 0.3]])\n",
    "\n",
    "l1 = loss(Y_pred_good, Y)\n",
    "l2 = loss(Y_pred_bad, Y)\n",
    "\n",
    "print(l1, l2.item()) # l2 will be higher\n",
    "\n",
    "a, b = torch.max(Y_pred_good, dim=1)\n",
    "a1, b1 = torch.max(Y_pred_bad, dim=1)\n",
    "print(a, b, a1, b1)"
   ]
  },
  {
   "cell_type": "code",
   "execution_count": null,
   "id": "d1c8280d",
   "metadata": {},
   "outputs": [],
   "source": [
    "class NeuralNet(nn.Module):\n",
    "    def __init__(self, input_dim, hidden_dim):\n",
    "        super(NeuralNet, self).__init__()\n",
    "        \n",
    "        self.linear1 = nn.Linear(input_dim, hidden_dim)\n",
    "        self.relu = nn.ReLU()\n",
    "        self.linear2 = nn.Linear(hidden_dim, 1)\n",
    "        self.sigmoid = nn.Sigmoid()\n",
    "        \n",
    "    def forward(self, X):\n",
    "        out = self.linear1(X)\n",
    "        out = self.relu(out)\n",
    "        out = self.linear2(out)\n",
    "        out = self.sigmoid(out)\n",
    "        \n",
    "        return out\n",
    "    \n",
    "# You can add the activations in the init function as a part of the layer or you can call the function\n",
    "# separately in the forward pass using torch.relu or torch.sigmoid"
   ]
  }
 ],
 "metadata": {
  "kernelspec": {
   "display_name": "Python 3",
   "language": "python",
   "name": "python3"
  },
  "language_info": {
   "codemirror_mode": {
    "name": "ipython",
    "version": 3
   },
   "file_extension": ".py",
   "mimetype": "text/x-python",
   "name": "python",
   "nbconvert_exporter": "python",
   "pygments_lexer": "ipython3",
   "version": "3.6.9"
  }
 },
 "nbformat": 4,
 "nbformat_minor": 5
}
